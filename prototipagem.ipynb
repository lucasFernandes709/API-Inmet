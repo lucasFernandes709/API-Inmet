{
 "metadata": {
  "language_info": {
   "codemirror_mode": {
    "name": "ipython",
    "version": 3
   },
   "file_extension": ".py",
   "mimetype": "text/x-python",
   "name": "python",
   "nbconvert_exporter": "python",
   "pygments_lexer": "ipython3",
   "version": "3.7.5-final"
  },
  "orig_nbformat": 2,
  "kernelspec": {
   "name": "python37564bit249b924e438f4703abdd432c9b9b3ae5",
   "display_name": "Python 3.7.5 64-bit"
  },
  "metadata": {
   "interpreter": {
    "hash": "fd69f43f58546b570e94fd7eba7b65e6bcc7a5bbc4eab0408017d18902915d69"
   }
  }
 },
 "nbformat": 4,
 "nbformat_minor": 2,
 "cells": [
  {
   "source": [
    "# Funções"
   ],
   "cell_type": "markdown",
   "metadata": {}
  },
  {
   "cell_type": "code",
   "execution_count": 2,
   "metadata": {},
   "outputs": [],
   "source": [
    "import pandas as pd\n",
    "import numpy as np\n",
    "import requests\n",
    "from datetime import datetime, timedelta\n",
    "\n",
    "def print_valid_dates(formats):\n",
    "    print(formats)\n",
    "\n",
    "\n",
    "def get_date(str_date: str):\n",
    "    _valid_formats_base = ['%d-%m-%Y', '%Y-%m-%d']\n",
    "    _valid_formats_variations = [(d,\n",
    "                                  d.replace('-', '/'),\n",
    "                                  d.replace('Y', 'y'),\n",
    "                                  d.replace('-', '/').replace('Y', 'y'))\n",
    "                                 for d in _valid_formats_base]\n",
    "    _valid_formats_list = [i for t in _valid_formats_variations for i in t]\n",
    "\n",
    "    for format in _valid_formats_list:\n",
    "        try:\n",
    "            return datetime.strptime(str_date, format).date()\n",
    "        except:\n",
    "            pass\n",
    "\n",
    "    print(f'Formato da data {str_date} inválido. Processo abortado!')\n",
    "    print_valid_dates(_valid_formats_base)\n",
    "    return False\n",
    "\n",
    "\n",
    "def load_stations(file_path: str):\n",
    "    with open(file_path, 'r') as f:\n",
    "        station_list = f.readlines()\n",
    "\n",
    "    return list(map(lambda x: x.rstrip('\\n'), station_list))\n",
    "\n",
    "\n",
    "def split_date_range(start_date, end_date, date_intervals):\n",
    "    req = []\n",
    "    start_date_int = start_date\n",
    "    for i in range(1, date_intervals + 1):\n",
    "        end_date_interval = start_date + timedelta(days=180) * i\n",
    "        req.append((str(start_date_int), str(end_date_interval)))\n",
    "        start_date_int = end_date_interval + timedelta(days=1)\n",
    "\n",
    "    req.append((str(start_date_int), str(end_date)))\n",
    "\n",
    "    return req"
   ]
  },
  {
   "cell_type": "code",
   "execution_count": 8,
   "metadata": {},
   "outputs": [
    {
     "output_type": "stream",
     "name": "stdout",
     "text": [
      "('2020-01-01', '2021-04-13', 'A240')\n"
     ]
    }
   ],
   "source": [
    "start = get_date('2020-01-01')\n",
    "end = get_date('2021-04-13')\n",
    "\n",
    "for r in split_date_range(start, end, 0):\n",
    "    print(r + ('A240',))"
   ]
  }
 ]
}